{
  "nbformat": 4,
  "nbformat_minor": 0,
  "metadata": {
    "colab": {
      "name": "sbert.ipynb",
      "provenance": [],
      "collapsed_sections": []
    },
    "kernelspec": {
      "display_name": "Python 3",
      "name": "python3"
    },
    "language_info": {
      "name": "python"
    }
  },
  "cells": [
    {
      "cell_type": "code",
      "metadata": {
        "id": "JKf81vdcTgB3"
      },
      "source": [
        "!pip install rake-nltk\n",
        "!pip install -U sentence-transformers"
      ],
      "execution_count": null,
      "outputs": []
    },
    {
      "cell_type": "code",
      "metadata": {
        "id": "J5v8SEL8Tl0l"
      },
      "source": [
        "from collections import Counter\n",
        "import os\n",
        "import math\n",
        "import numpy as np\n",
        "import nltk\n",
        "nltk.download('stopwords')\n",
        "nltk.download('punkt')\n",
        "from nltk.tokenize import word_tokenize\n",
        "from rake_nltk import Rake,Metric\n",
        "from sentence_transformers import SentenceTransformer, util\n"
      ],
      "execution_count": null,
      "outputs": []
    },
    {
      "cell_type": "code",
      "metadata": {
        "id": "prWUHchljFrj"
      },
      "source": [
        "from collections import Counter\n",
        "\n",
        "def remove_punctuation(data):\n",
        "    symbols = \"!\\\"#$%&()*+-./:;<=>?@[\\]^_`{|}~\\n\"\n",
        "    ret = \"\"\n",
        "    for i in range(0, len(data)):\n",
        "    \tif data[i] in symbols:\n",
        "    \t\tret+=' '\n",
        "    \telse:\n",
        "    \t\tret += data[i] \n",
        "    return ret\n",
        "\n",
        "def getQueries(filename):\n",
        "\tfile = open(filename, 'r')\n",
        "\tqueries = []\n",
        "\twhile(True):\n",
        "\t\tstr = file.readline()\n",
        "\t\tif(str == \"\"):\n",
        "\t\t\tbreak\n",
        "\t\tprev = 'A'\n",
        "\t\tcurr = 'A'\n",
        "\t\ti = 0\n",
        "\t\twhile(True):\n",
        "\t\t\tprev = curr\n",
        "\t\t\tcurr = str[i]\n",
        "\t\t\tif(prev == '|' and curr == '|'):\n",
        "\t\t\t\tbreak\n",
        "\t\t\ti+=1\n",
        "\t\t#pre-processing\n",
        "\t\ttext = remove_punctuation(str[i+1:])\n",
        "\t\tqueries.append(text)\n",
        "\tfile.close()\n",
        "\treturn queries"
      ],
      "execution_count": 3,
      "outputs": []
    },
    {
      "cell_type": "markdown",
      "metadata": {
        "id": "iXkPVU0ljSOs"
      },
      "source": [
        "rake code"
      ]
    },
    {
      "cell_type": "code",
      "metadata": {
        "id": "f6TMP2vYjRtw"
      },
      "source": [
        "from codecs import getwriter\n",
        "from sys import is_finalizing\n",
        "from bs4 import BeautifulSoup\n",
        "from collections import Counter\n",
        "import nltk\n",
        "from nltk.tokenize import word_tokenize\n",
        "import re"
      ],
      "execution_count": 4,
      "outputs": []
    },
    {
      "cell_type": "code",
      "metadata": {
        "id": "DEbmdmm5lnwS"
      },
      "source": [
        "def extract_key(text, w, r):\n",
        "\tr.extract_keywords_from_text(text) \n",
        "\ta = r.get_ranked_phrases()\n",
        "\tt = \"\"\n",
        "\tcut = min(w, len(a))\n",
        "\tcount = 0\n",
        "\tfor phrase in a:\n",
        "\t\tif count >= cut:\n",
        "\t\t\tbreak\n",
        "\t\tt = t + ' ' + phrase\n",
        "\t\tcount += 1\n",
        "\treturn t"
      ],
      "execution_count": 5,
      "outputs": []
    },
    {
      "cell_type": "code",
      "metadata": {
        "id": "8_wYkJ54ltx8"
      },
      "source": [
        "queryList = getQueries('./drive/MyDrive/AILA_2019_dataset/Query_doc.txt')\n",
        "totalQueries = len(queryList)\n",
        "r = Rake()\n",
        "for i in range(0, totalQueries):\n",
        "  queryList[i] = extract_key(queryList[i], 200, r)\n",
        "\n",
        "\n",
        "print(\"step 1 complete\")\n",
        "print(queryList)\n",
        "print(len(queryList))\n",
        "print(type(queryList))\n"
      ],
      "execution_count": null,
      "outputs": []
    },
    {
      "cell_type": "code",
      "metadata": {
        "id": "E3YjI5OemqHf",
        "colab": {
          "base_uri": "https://localhost:8080/"
        },
        "outputId": "7a88b451-2dd3-471d-d451-abe23046943a"
      },
      "source": [
        "#reading relevant and non-relevant documents of the queries\n",
        "file = open('./drive/MyDrive/AILA_2019_dataset/relevance_judgments_priorcases.txt', 'r')\n",
        "queryRel = []\n",
        "queryNonRel = []\n",
        "for i in range(0, totalQueries):\n",
        "\tqueryRel.append([])\n",
        "\tqueryNonRel.append([])\n",
        "\n",
        "#filling queryRel and queryNonRel\n",
        "while(True):\n",
        "\tstr1 = file.readline()\n",
        "\tif(str1 == ''):\n",
        "\t\tbreak\n",
        "\tstr1 = str1.split()\n",
        "\tif(int(str1[3]) == 0):\n",
        "\t\tqueryNonRel[int(str1[0][6:])-1].append(str1[2])\n",
        "\telse:\n",
        "\t\tqueryRel[int(str1[0][6:])-1].append(str1[2])\n",
        "file.close()\n",
        "print(\"step 2 complete\")\n"
      ],
      "execution_count": 7,
      "outputs": [
        {
          "output_type": "stream",
          "name": "stdout",
          "text": [
            "step 2 complete\n"
          ]
        }
      ]
    },
    {
      "cell_type": "code",
      "metadata": {
        "colab": {
          "base_uri": "https://localhost:8080/"
        },
        "id": "xoQwjGUnlJFm",
        "outputId": "21075793-e00b-4df2-9569-e8ccf4ab71e9"
      },
      "source": [
        "#reading relevant and non-relevant documents of the queries\n",
        "file = open('./drive/MyDrive/AILA_2019_dataset/relevance_judgments_statutes.txt', 'r')\n",
        "queryRelS = []\n",
        "queryNonRelS = []\n",
        "for i in range(0, totalQueries):\n",
        "\tqueryRelS.append([])\n",
        "\tqueryNonRelS.append([])\n",
        "\n",
        "#filling queryRel and queryNonRel\n",
        "while(True):\n",
        "\tstr1 = file.readline()\n",
        "\tif(str1 == ''):\n",
        "\t\tbreak\n",
        "\tstr1 = str1.split()\n",
        "\tif(int(str1[3]) == 0):\n",
        "\t\tqueryNonRelS[int(str1[0][6:])-1].append(str1[2])\n",
        "\telse:\n",
        "\t\tqueryRelS[int(str1[0][6:])-1].append(str1[2])\n",
        "file.close()\n",
        "print(\"step 3 complete\")\n"
      ],
      "execution_count": 25,
      "outputs": [
        {
          "output_type": "stream",
          "name": "stdout",
          "text": [
            "step 3 complete\n"
          ]
        }
      ]
    },
    {
      "cell_type": "code",
      "metadata": {
        "id": "V1puqa4xjtEd"
      },
      "source": [
        "caseDocs = os.listdir(\"./drive/MyDrive/AILA_2019_dataset/Object_casedocs\")\n",
        "statutesDocs = os.listdir(\"./drive/MyDrive/AILA_2019_dataset/Object_statutes\")"
      ],
      "execution_count": 8,
      "outputs": []
    },
    {
      "cell_type": "code",
      "metadata": {
        "id": "CBWtGaQDm514"
      },
      "source": [
        "model = SentenceTransformer('bert-base-nli-mean-tokens')"
      ],
      "execution_count": null,
      "outputs": []
    },
    {
      "cell_type": "code",
      "metadata": {
        "id": "QVVkV2S0p5kC"
      },
      "source": [
        "def readDoc(filename):\n",
        "  file = open(filename, 'r')\n",
        "  str = file.read()\n",
        "  str.replace('\\n', ' ')\n",
        "  str = remove_punctuation(str)\n",
        "  file.close()\n",
        "  return str"
      ],
      "execution_count": 10,
      "outputs": []
    },
    {
      "cell_type": "code",
      "metadata": {
        "id": "CqNm93khY5Lo"
      },
      "source": [
        "def getRank(a, doc):\n",
        "  for i in range(0, len(a)):\n",
        "    if(a[i][0] == doc):\n",
        "      return i+1\n",
        "  return -1"
      ],
      "execution_count": 11,
      "outputs": []
    },
    {
      "cell_type": "code",
      "metadata": {
        "id": "vTovAXwWphtu"
      },
      "source": [
        "caseData = []\n",
        "for i in range(0, len(caseDocs)):\n",
        "  doc = caseDocs[i]\n",
        "  caseData.append(readDoc(\"./drive/MyDrive/AILA_2019_dataset/Object_casedocs/\"+doc))\n",
        "  caseData[i] = extract_key(caseData[i], 200, r)"
      ],
      "execution_count": 12,
      "outputs": []
    },
    {
      "cell_type": "code",
      "metadata": {
        "id": "litflACbHdDZ"
      },
      "source": [
        "statuteData = []\n",
        "for i in range(0, len(statutesDocs)):\n",
        "  doc = statutesDocs[i]\n",
        "  statuteData.append(readDoc(\"./drive/MyDrive/AILA_2019_dataset/Object_statutes/\"+doc))\n",
        "  statuteData[i] = extract_key(statuteData[i], 200, r)\n"
      ],
      "execution_count": 13,
      "outputs": []
    },
    {
      "cell_type": "code",
      "metadata": {
        "id": "SyUDNC-JulZN"
      },
      "source": [
        "embedded_queries = model.encode(queryList)\n",
        "embedded_cases = model.encode(caseData)\n",
        "embedded_statutes = model.encode(statuteData)"
      ],
      "execution_count": 14,
      "outputs": []
    },
    {
      "cell_type": "code",
      "metadata": {
        "id": "u34qaKg5GT5F"
      },
      "source": [
        "similarityCaseDocs = np.zeros(shape=(50, len(caseDocs)))\n",
        "for i in range(0, len(queryList)):\n",
        "  for j in range(0, len(caseDocs)):\n",
        "    similarity = np.array(util.pytorch_cos_sim(embedded_queries[i], embedded_cases[j]))\n",
        "    similarityCaseDocs[i][j] = similarity[0][0]"
      ],
      "execution_count": 15,
      "outputs": []
    },
    {
      "cell_type": "code",
      "metadata": {
        "id": "t5SNTl6-a-xo"
      },
      "source": [
        "similarityStatuteDocs = np.zeros(shape=(50, len(statutesDocs)))\n",
        "for i in range(0, len(queryList)):\n",
        "  for j in range(0, len(statutesDocs)):\n",
        "    similarity = np.array(util.pytorch_cos_sim(embedded_queries[i], embedded_statutes[j]))\n",
        "    similarityStatuteDocs[i][j] = similarity[0][0]"
      ],
      "execution_count": 17,
      "outputs": []
    },
    {
      "cell_type": "code",
      "metadata": {
        "id": "r-ZBrT1Wq6zQ"
      },
      "source": [
        "graphRanksCase = []\n",
        "graphRanksStatutes = []\n",
        "for i in range(0, 10):\n",
        "  graphRanksCase.append(0)\n",
        "for i in range(0, 20):\n",
        "  graphRanksStatutes.append(0)"
      ],
      "execution_count": 63,
      "outputs": []
    },
    {
      "cell_type": "code",
      "metadata": {
        "id": "jnP7jo4HHpT-"
      },
      "source": [
        "print(\"For prior cases\")\n",
        "for i in range(0, len(queryList)):\n",
        "  a = []\n",
        "  for j in range(0, len(caseDocs)):\n",
        "    a.append((caseDocs[j], similarityCaseDocs[i][j]))\n",
        "  a.sort(key=lambda i:i[1],reverse=True)\n",
        "  print(\"FOR query : \"+str(i+1))\n",
        "  print(\"Top five retrieved documents: \")\n",
        "  for j in range(0, 5):\n",
        "    print(a[j][0]+\" \"+str(a[j][1]))\n",
        "  print(\"Ranks of given relevant documents: \")\n",
        "  for j in range(0, len(queryRel[i])):\n",
        "    rank = getRank(a, queryRel[i][j]+\".txt\")\n",
        "    if(rank < 1000 and rank >= 0):\n",
        "      graphRanksCase[rank//100]+=1\n",
        "    print(queryRel[i][j]+\" \"+str(rank))\n",
        "  print(\"\\n\")\n",
        "print(\"-------------------------------------------\")"
      ],
      "execution_count": null,
      "outputs": []
    },
    {
      "cell_type": "code",
      "metadata": {
        "id": "2AKdFAMcZLwe"
      },
      "source": [
        "print(\"For statutes\")\n",
        "for i in range(0, len(queryList)):\n",
        "  a = []\n",
        "  for j in range(0, len(statutesDocs)):\n",
        "    a.append((statutesDocs[j], similarityStatuteDocs[i][j]))\n",
        "  a.sort(key=lambda i:i[1],reverse=True)\n",
        "  print(\"FOR query : \"+str(i+1))\n",
        "  print(\"Top five retrieved documents: \")\n",
        "  for j in range(0, 5):\n",
        "    print(a[j][0]+\" \"+str(a[j][1]))\n",
        "  print(\"Ranks of given relevant documents: \")\n",
        "  for j in range(0, len(queryRelS[i])):\n",
        "    rank = getRank(a, queryRelS[i][j]+\".txt\")\n",
        "    if(rank < 1000 and rank >=0):\n",
        "      graphRanksStatutes[rank//10]+=1\n",
        "    print(queryRelS[i][j]+\" \"+str(rank))\n",
        "  print(\"\\n\")\n",
        "print(\"-------------------------------------------\")"
      ],
      "execution_count": null,
      "outputs": []
    },
    {
      "cell_type": "markdown",
      "metadata": {
        "id": "zYQwLYNKsFl5"
      },
      "source": [
        "Graph"
      ]
    },
    {
      "cell_type": "code",
      "metadata": {
        "id": "1H8awtbvZq_2",
        "colab": {
          "base_uri": "https://localhost:8080/",
          "height": 294
        },
        "outputId": "178a9630-7f6e-488e-84bb-cc0681b97e5d"
      },
      "source": [
        "import numpy as np\n",
        "import pandas as pd\n",
        "import matplotlib.pyplot as plt\n",
        "import seaborn as sns \n",
        "\n",
        "data = []\n",
        "data.append(graphRanksCase)\n",
        "# data.append(counter9)\n",
        "# data.append(counter10)\n",
        "\n",
        "X = np.arange(10,110,10)\n",
        "plt.bar(X+0, data[0], color = 'b', width = 1)\n",
        "# plt.bar(X+1.25, data[1], color = 'r', width = 1)\n",
        "# plt.bar(X+2.50, data[2], color = 'g', width = 1)\n",
        "plt.xlabel(\"Relevant Document Rank \")\n",
        "plt.ylabel(\"Frequency\")\n",
        "plt.title(\"Rank vs Relevant document frequency for Rake and SBERT (scaled down by 0.1%)\")\n",
        "plt.show()"
      ],
      "execution_count": 77,
      "outputs": [
        {
          "output_type": "display_data",
          "data": {
            "image/png": "[encoded data removed]",
            "text/plain": [
              "<Figure size 432x288 with 1 Axes>"
            ]
          },
          "metadata": {
            "needs_background": "light"
          }
        }
      ]
    },
    {
      "cell_type": "markdown",
      "metadata": {
        "id": "IX5yr2pKsYFr"
      },
      "source": [
        "Graph for statutes"
      ]
    },
    {
      "cell_type": "code",
      "metadata": {
        "colab": {
          "base_uri": "https://localhost:8080/",
          "height": 294
        },
        "id": "E93dPEQwsXum",
        "outputId": "fb4d9bbf-6dd0-4f37-9720-997259bfa457"
      },
      "source": [
        "import numpy as np\n",
        "import pandas as pd\n",
        "import matplotlib.pyplot as plt\n",
        "import seaborn as sns \n",
        "\n",
        "data = []\n",
        "data.append(graphRanksStatutes)\n",
        "# data.append(counter9)\n",
        "# data.append(counter10)\n",
        "\n",
        "X = np.arange(10,210,10)\n",
        "plt.bar(X+0, data[0], color = 'b', width = 1)\n",
        "# plt.bar(X+1.25, data[1], color = 'r', width = 1)\n",
        "# plt.bar(X+2.50, data[2], color = 'g', width = 1)\n",
        "plt.xlabel(\"Relevant Document Rank \")\n",
        "plt.ylabel(\"Frequency\")\n",
        "plt.title(\"Rank vs Relevant document frequency for Rake and SBERT (scaled down by 0.1%)\")\n",
        "plt.show()"
      ],
      "execution_count": 78,
      "outputs": [
        {
          "output_type": "display_data",
          "data": {
            "image/png": "[encoded data removed]",
            "text/plain": [
              "<Figure size 432x288 with 1 Axes>"
            ]
          },
          "metadata": {
            "needs_background": "light"
          }
        }
      ]
    }
  ]
}